{
 "cells": [
  {
   "cell_type": "code",
   "execution_count": null,
   "metadata": {},
   "outputs": [],
   "source": [
    "# Filename: 1.0-initial-data-exploration.ipynb\n",
    "# Author: Eyosyas Dagnachew\n",
    "# Description: This file is just to explore the MNIST dataset and get to know it better."
   ]
  },
  {
   "cell_type": "code",
   "execution_count": null,
   "metadata": {},
   "outputs": [],
   "source": [
    "import torch\n",
    "import torchvision\n",
    "import torchvision.transforms as transforms\n",
    "import matplotlib.pyplot as plt\n",
    "from collections import Counter, OrderedDict"
   ]
  },
  {
   "cell_type": "code",
   "execution_count": null,
   "metadata": {},
   "outputs": [],
   "source": [
    "# Device configuration\n",
    "device = torch.device(\"cuda\" if torch.cuda.is_available() else \"cpu\")\n",
    "device"
   ]
  },
  {
   "cell_type": "code",
   "execution_count": null,
   "metadata": {},
   "outputs": [],
   "source": [
    "# Load in MNIST dataset\n",
    "train_dataset = torchvision.datasets.MNIST(root=\"../../data\", \n",
    "                                           train=True, \n",
    "                                           transform=transforms.Compose([transforms.ToTensor()]),\n",
    "                                           download=False)\n",
    "test_dataset = torchvision.datasets.MNIST(root=\"../../data\",\n",
    "                                          train=False,\n",
    "                                          transform=transforms.Compose([transforms.ToTensor()]),\n",
    "                                          download=False)"
   ]
  },
  {
   "cell_type": "code",
   "execution_count": null,
   "metadata": {},
   "outputs": [],
   "source": [
    "# Init data loader for MNIST dataset\n",
    "train_loader = torch.utils.data.DataLoader(dataset=train_dataset,\n",
    "                                           batch_size=100,\n",
    "                                           shuffle=True)\n",
    "test_loader = torch.utils.data.DataLoader(dataset=test_dataset,\n",
    "                                          batch_size=100,\n",
    "                                          shuffle=False)\n",
    "train_loader, test_loader"
   ]
  },
  {
   "cell_type": "code",
   "execution_count": null,
   "metadata": {},
   "outputs": [],
   "source": [
    "# How big is the dataset?\n",
    "train_dataset, test_dataset"
   ]
  },
  {
   "cell_type": "code",
   "execution_count": null,
   "metadata": {},
   "outputs": [],
   "source": [
    "# Understand the train_loader\n",
    "for batch in train_loader:    # iterates over batches\n",
    "    print(\"len(batch) = {} --> batch[0] contains images and batch[1] contains labels.\".format(len(batch)))\n",
    "    print(\"batch[0].size() = {} --> The images are 28x28 but PyTorch wants that 1 there for some reason.\".format(batch[0].size()))\n",
    "    print(\"batch[1].size() = {}\".format(batch[1].size()))\n",
    "    break\n",
    "    # batch is a tensor with size 2, one tensor with the images and one with the labels\n",
    "    # batch[0] has size 100 "
   ]
  },
  {
   "cell_type": "code",
   "execution_count": null,
   "metadata": {
    "scrolled": true
   },
   "outputs": [],
   "source": [
    "# Visualize a sample\n",
    "plt.imshow(batch[0][0].view(28,28)) # reshapes batch[0][0] from [1, 28, 28] to [28, 28], can also use plt.imshow(batch[0][0][0])\n",
    "plt.show()"
   ]
  },
  {
   "cell_type": "code",
   "execution_count": null,
   "metadata": {},
   "outputs": [],
   "source": [
    "# Are the classes balanced?\n",
    "total_train_images = 0\n",
    "train_class_cnt = Counter()\n",
    "for batch in train_loader:\n",
    "    X, y = batch\n",
    "    for label in y:\n",
    "        train_class_cnt[int(label)] += 1\n",
    "        total_train_images += 1\n",
    "\n",
    "total_test_images = 0\n",
    "test_class_cnt = Counter()\n",
    "for batch in test_loader:\n",
    "    X, y = batch\n",
    "    for label in y:\n",
    "        test_class_cnt[int(label)] += 1\n",
    "        total_test_images += 1\n",
    "\n",
    "print(\"Training Dataset\")\n",
    "train_class_cnt = OrderedDict(sorted(train_class_cnt.items(), key=lambda x: x[0]))\n",
    "for key, value in train_class_cnt.items():\n",
    "    print(\"{}: {:4} images, {:.2f}%\".format(key, value, (value/total_train_images)*100))\n",
    "print(\"Total Number of Training Images: {}\".format(total_train_images))\n",
    "\n",
    "print()\n",
    "\n",
    "print(\"Testing Dataset\")\n",
    "test_class_cnt = OrderedDict(sorted(test_class_cnt.items(), key=lambda x: x[0]))\n",
    "for key, value in test_class_cnt.items():\n",
    "    print(\"{}: {:4} images, {:.2f}%\".format(key, value, (value/total_test_images)*100))\n",
    "print(\"Total Number of Testing Images: {}\".format(total_test_images))\n",
    "\n",
    "# Yes, the classes are balanced for the most part (~10% of each class in both training and testing datasets)"
   ]
  }
 ],
 "metadata": {
  "kernelspec": {
   "display_name": "Python 3",
   "language": "python",
   "name": "python3"
  },
  "language_info": {
   "codemirror_mode": {
    "name": "ipython",
    "version": 3
   },
   "file_extension": ".py",
   "mimetype": "text/x-python",
   "name": "python",
   "nbconvert_exporter": "python",
   "pygments_lexer": "ipython3",
   "version": "3.8.1"
  }
 },
 "nbformat": 4,
 "nbformat_minor": 4
}
